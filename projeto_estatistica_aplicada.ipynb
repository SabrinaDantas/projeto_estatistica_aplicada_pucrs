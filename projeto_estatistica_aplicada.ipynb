{
  "nbformat": 4,
  "nbformat_minor": 0,
  "metadata": {
    "colab": {
      "provenance": [],
      "collapsed_sections": [
        "qyvUja401a2C",
        "Yady5Z59BhCt"
      ],
      "authorship_tag": "ABX9TyNRS1q+S3+2FF9Togy7aO2R",
      "include_colab_link": true
    },
    "kernelspec": {
      "name": "ir",
      "display_name": "R"
    },
    "language_info": {
      "name": "R"
    }
  },
  "cells": [
    {
      "cell_type": "markdown",
      "metadata": {
        "id": "view-in-github",
        "colab_type": "text"
      },
      "source": [
        "<a href=\"https://colab.research.google.com/github/SabrinaDantas/projeto_estatistica_aplicada_pucrs/blob/main/projeto_estatistica_aplicada.ipynb\" target=\"_parent\"><img src=\"https://colab.research.google.com/assets/colab-badge.svg\" alt=\"Open In Colab\"/></a>"
      ]
    },
    {
      "cell_type": "markdown",
      "source": [
        "# Projeto - Estatística Aplicada\n",
        "\n"
      ],
      "metadata": {
        "id": "5vPlIK51zufZ"
      }
    },
    {
      "cell_type": "markdown",
      "source": [
        "## Bibliotecas\n"
      ],
      "metadata": {
        "id": "kzff3_u53VWw"
      }
    },
    {
      "cell_type": "markdown",
      "source": [
        "As bibliotecas desempenham um papel essencial na expansão das capacidades da linguagem R e são fundamentais para realizar análises de dados complexas e visualizações informativas.\n",
        "\n",
        "<small>*Para uma leitura, este passo pode ser desconsiderado devido à demora.*</small>\n"
      ],
      "metadata": {
        "id": "dEqTgeky3ZWa"
      }
    },
    {
      "cell_type": "code",
      "source": [
        "install.packages(c('skimr', 'tidyverse'), dep = TRUE)\n",
        "\n",
        "library(skimr)\n",
        "library(tidyverse)"
      ],
      "metadata": {
        "colab": {
          "base_uri": "https://localhost:8080/"
        },
        "id": "tthASPXy4ulJ",
        "outputId": "a39a56c2-94f4-4bcc-b8de-8f19e5e9a0d6"
      },
      "execution_count": null,
      "outputs": [
        {
          "output_type": "stream",
          "name": "stderr",
          "text": [
            "Installing packages into ‘/usr/local/lib/R/site-library’\n",
            "(as ‘lib’ is unspecified)\n",
            "\n"
          ]
        }
      ]
    },
    {
      "cell_type": "markdown",
      "source": [
        "## 1. Fase 1"
      ],
      "metadata": {
        "id": "ZHYoWpkJz8Ew"
      }
    },
    {
      "cell_type": "markdown",
      "source": [
        "### 1.1 Leitura do Banco de Dados"
      ],
      "metadata": {
        "id": "qyvUja401a2C"
      }
    },
    {
      "cell_type": "markdown",
      "source": [
        "A base de dados refere-se a [*Jogadores Registrados na FIFA*](https://raw.githubusercontent.com/filipezabala/pucrs-tecnologo-bd/main/dados/Anexo_Projeto_fifa_world_national_teams_versa%CC%83o_oficial%2020241.csv) , em formado CSV. A leitura será realizada através da URL utilizando a função ***read.csv( )***."
      ],
      "metadata": {
        "id": "eI8EFEvJ2TsS"
      }
    },
    {
      "cell_type": "code",
      "execution_count": null,
      "metadata": {
        "id": "SLjDOjUZyub0"
      },
      "outputs": [],
      "source": [
        "url_fifa <- 'https://raw.githubusercontent.com/filipezabala/pucrs-tecnologo-bd/main/dados/Anexo_Projeto_fifa_world_national_teams_versa%CC%83o_oficial%2020241.csv'\n",
        "df_fifa <- read.csv(url_fifa, header = TRUE, sep = ';')"
      ]
    },
    {
      "cell_type": "markdown",
      "source": [
        "### 1.2 Análise da Estrutura"
      ],
      "metadata": {
        "id": "Yady5Z59BhCt"
      }
    },
    {
      "cell_type": "markdown",
      "source": [
        "A análise da estrutura de dados é importante para compreender, identificar possíveis problemas, selecionar variáveis relevantes, preparar os dados e planejar a análise. Em R, utiliza-se a função ***str( )***."
      ],
      "metadata": {
        "id": "ETCR8Zzu5iaH"
      }
    },
    {
      "cell_type": "code",
      "source": [
        "str(df_fifa)\n",
        "# head(df_fifa)"
      ],
      "metadata": {
        "colab": {
          "base_uri": "https://localhost:8080/"
        },
        "id": "fVAc20L0zIlE",
        "outputId": "927d3de5-2b7c-49c3-f7f4-10d59dcce6f3"
      },
      "execution_count": null,
      "outputs": [
        {
          "output_type": "stream",
          "name": "stdout",
          "text": [
            "'data.frame':\t718 obs. of  30 variables:\n",
            " $ id                           : int  158023 153079 211110 201399 226226 199667 212616 216816 183892 231478 ...\n",
            " $ name                         : chr  \"Messi\" \"Aguero\" \"Dybala\" \"Icardi\" ...\n",
            " $ full_name                    : chr  \"Lionel Andr\\xe9s Messi Cuccittini\" \"Sergio Leonel Ag\\xfcero del Castillo\" \"Paulo Bruno Exequiel Dybala\" \"Mauro Emanuel Icardi Rivero\" ...\n",
            " $ overall_rating               : int  94 89 89 87 82 77 77 78 79 79 ...\n",
            " $ value_euro                   : int  110500000 64500000 89000000 64500000 30000000 8500000 12000000 15000000 8500000 18000000 ...\n",
            " $ wage_euro                    : int  565000 300000 205000 130000 83000 28000 27000 53000 19000 54000 ...\n",
            " $ nationality                  : chr  \"Argentina\" \"Argentina\" \"Argentina\" \"Argentina\" ...\n",
            " $ national_team                : chr  \"Argentina\" \"Argentina\" \"Argentina\" \"Argentina\" ...\n",
            " $ club_team                    : chr  \"FC Barcelona\" \"Manchester City\" \"Juventus\" \"Inter\" ...\n",
            " $ age                          : int  31 30 25 26 22 28 24 23 31 21 ...\n",
            " $ height_cm                    : int  170 173 152 155 175 185 152 155 155 175 ...\n",
            " $ weight_kgs                   : int  72 70 75 75 70 79 70 81 83 79 ...\n",
            " $ international_reputation.1.5.: int  5 4 3 3 1 2 1 2 1 1 ...\n",
            " $ weak_foot.1.5.               : int  4 4 3 4 3 3 3 3 3 4 ...\n",
            " $ skill_moves.1.5.             : int  4 4 4 3 4 2 4 3 2 4 ...\n",
            " $ club_rating                  : int  86 85 85 82 80 79 75 76 80 82 ...\n",
            " $ Goleiro                      : int  0 0 0 0 0 0 0 0 0 0 ...\n",
            " $ Zagueiro                     : int  0 0 0 0 0 0 0 0 0 0 ...\n",
            " $ Meio                         : int  0 0 0 0 0 0 0 0 0 0 ...\n",
            " $ Atacante                     : int  1 0 1 1 0 0 0 0 0 0 ...\n",
            " $ crossing                     : int  86 70 82 46 75 66 76 40 68 56 ...\n",
            " $ finishing                    : int  95 93 84 91 77 40 68 79 60 82 ...\n",
            " $ heading_accuracy             : int  70 77 68 91 59 79 50 80 76 79 ...\n",
            " $ short_passing                : int  92 81 87 73 82 70 78 68 71 62 ...\n",
            " $ dribbling                    : int  97 89 92 77 84 63 83 76 57 78 ...\n",
            " $ jumping                      : int  68 81 75 94 64 77 58 84 76 81 ...\n",
            " $ strength                     : int  66 73 65 76 69 78 68 72 82 86 ...\n",
            " $ long_shots                   : int  94 83 88 70 76 56 79 66 58 68 ...\n",
            " $ aggression                   : int  48 65 48 56 65 83 56 70 81 74 ...\n",
            " $ GK_reflexes                  : int  8 14 8 9 14 7 14 11 6 13 ...\n"
          ]
        }
      ]
    },
    {
      "cell_type": "markdown",
      "source": [
        "No banco de dados da FIFA, temos 718 linhas e 30 variáveis que foram classificadas corretamente. Para prosseguir com a análise de possíveis problemas, será verificado a presença de valores ausentes."
      ],
      "metadata": {
        "id": "kqa_mqhpCXLa"
      }
    },
    {
      "cell_type": "code",
      "source": [
        "sum(is.na(df_fifa))"
      ],
      "metadata": {
        "colab": {
          "base_uri": "https://localhost:8080/",
          "height": 34
        },
        "id": "1-EnzeqN4JrM",
        "outputId": "f78ac07f-d939-4d2e-d015-7bd6de09b4d1"
      },
      "execution_count": null,
      "outputs": [
        {
          "output_type": "display_data",
          "data": {
            "text/html": [
              "0"
            ],
            "text/markdown": "0",
            "text/latex": "0",
            "text/plain": [
              "[1] 0"
            ]
          },
          "metadata": {}
        }
      ]
    },
    {
      "cell_type": "markdown",
      "source": [
        "Não foi localizado a presença de valores ausentes no banco de dados.\n"
      ],
      "metadata": {
        "id": "pnNBWvwED3so"
      }
    },
    {
      "cell_type": "markdown",
      "source": [
        "### 1.3 Tipos de Variáveis"
      ],
      "metadata": {
        "id": "5W8y3owzED5X"
      }
    },
    {
      "cell_type": "markdown",
      "source": [
        "\n",
        "1. **Qualitativa Nominal:** Nacionalidade - (`nationality`)\n",
        "\n",
        "2. **Qualitativa Ordinal:** Não localizada\n",
        "\n",
        "3. **Quantitativa Discreta:** Reputação em uma escala de 1 (pior) até 5 (melhor) - (`international_reputation.1.5`)\n",
        "\n",
        "4. **Quantitativa Contínua:** Peso em KG - (`weight_kgs`)\n",
        "\n",
        "\n",
        "\n"
      ],
      "metadata": {
        "id": "CgOYP7_eEsmr"
      }
    },
    {
      "cell_type": "markdown",
      "source": [
        "### 1.4 Estatística Descritiva\n"
      ],
      "metadata": {
        "id": "8oP8bvfonEkv"
      }
    },
    {
      "cell_type": "markdown",
      "source": [
        "A estatística descritiva é importante para resumir e descrever características importantes de um conjunto de dados. Em R, podemos usar a função ***summary( )*** para realizar essa tarefa. Antes disso, será realizado um filtro das colunas que são do tipo inteiro, sendo excluída a coluna **id**."
      ],
      "metadata": {
        "id": "mbQEwSEInch3"
      }
    },
    {
      "cell_type": "code",
      "source": [
        "filter_int <- sapply(df_fifa, is.integer)  #Filtro do tipo inteiro\n",
        "sem_coluna_id <- df_fifa[, which(filter_int)[2:25]] # Retirado a coluna ID da análise\n",
        "\n",
        "summary(sem_coluna_id)"
      ],
      "metadata": {
        "colab": {
          "base_uri": "https://localhost:8080/",
          "height": 746
        },
        "id": "jD6O_gHuk3MU",
        "outputId": "ed26a912-09a8-48c1-989d-4416680b5ce4"
      },
      "execution_count": null,
      "outputs": [
        {
          "output_type": "display_data",
          "data": {
            "text/plain": [
              " overall_rating    value_euro          wage_euro           age       \n",
              " Min.   :58.00   Min.   :   230000   Min.   :  1000   Min.   :18.00  \n",
              " 1st Qu.:72.00   1st Qu.:  3325000   1st Qu.: 10000   1st Qu.:24.00  \n",
              " Median :76.00   Median :  8000000   Median : 27000   Median :26.00  \n",
              " Mean   :76.46   Mean   : 13897695   Mean   : 49560   Mean   :26.57  \n",
              " 3rd Qu.:80.00   3rd Qu.: 17000000   3rd Qu.: 59000   3rd Qu.:29.00  \n",
              " Max.   :94.00   Max.   :110500000   Max.   :565000   Max.   :37.00  \n",
              "   height_cm     weight_kgs     international_reputation.1.5. weak_foot.1.5. \n",
              " Min.   :152   Min.   : 59.00   Min.   :1.000                 Min.   :1.000  \n",
              " 1st Qu.:170   1st Qu.: 73.00   1st Qu.:1.000                 1st Qu.:3.000  \n",
              " Median :183   Median : 77.00   Median :1.000                 Median :3.000  \n",
              " Mean   :177   Mean   : 77.67   Mean   :1.673                 Mean   :3.185  \n",
              " 3rd Qu.:188   3rd Qu.: 82.00   3rd Qu.:2.000                 3rd Qu.:4.000  \n",
              " Max.   :203   Max.   :100.00   Max.   :5.000                 Max.   :5.000  \n",
              " skill_moves.1.5.  club_rating    Goleiro           Zagueiro      \n",
              " Min.   :1.000    Min.   :60   Min.   :0.00000   Min.   :0.00000  \n",
              " 1st Qu.:2.000    1st Qu.:72   1st Qu.:0.00000   1st Qu.:0.00000  \n",
              " Median :3.000    Median :76   Median :0.00000   Median :0.00000  \n",
              " Mean   :2.787    Mean   :76   Mean   :0.04178   Mean   :0.07521  \n",
              " 3rd Qu.:3.000    3rd Qu.:80   3rd Qu.:0.00000   3rd Qu.:0.00000  \n",
              " Max.   :5.000    Max.   :86   Max.   :1.00000   Max.   :1.00000  \n",
              "      Meio            Atacante         crossing       finishing    \n",
              " Min.   :0.00000   Min.   :0.0000   Min.   : 8.00   Min.   : 7.00  \n",
              " 1st Qu.:0.00000   1st Qu.:0.0000   1st Qu.:49.00   1st Qu.:37.00  \n",
              " Median :0.00000   Median :0.0000   Median :65.00   Median :58.00  \n",
              " Mean   :0.08217   Mean   :0.1003   Mean   :58.63   Mean   :53.36  \n",
              " 3rd Qu.:0.00000   3rd Qu.:0.0000   3rd Qu.:73.00   3rd Qu.:70.00  \n",
              " Max.   :1.00000   Max.   :1.0000   Max.   :93.00   Max.   :95.00  \n",
              " heading_accuracy short_passing     dribbling        jumping     \n",
              " Min.   : 7.00    Min.   :11.00   Min.   : 7.00   Min.   :28.00  \n",
              " 1st Qu.:52.00    1st Qu.:65.00   1st Qu.:60.25   1st Qu.:63.00  \n",
              " Median :64.00    Median :72.00   Median :70.00   Median :70.00  \n",
              " Mean   :59.11    Mean   :68.18   Mean   :64.40   Mean   :69.21  \n",
              " 3rd Qu.:73.00    3rd Qu.:78.00   3rd Qu.:77.00   3rd Qu.:77.00  \n",
              " Max.   :93.00    Max.   :92.00   Max.   :97.00   Max.   :95.00  \n",
              "    strength       long_shots      aggression    GK_reflexes   \n",
              " Min.   :30.00   Min.   : 5.00   Min.   :17.0   Min.   : 2.00  \n",
              " 1st Qu.:65.00   1st Qu.:46.25   1st Qu.:56.0   1st Qu.: 8.00  \n",
              " Median :72.00   Median :63.00   Median :68.0   Median :11.00  \n",
              " Mean   :70.88   Mean   :56.88   Mean   :64.1   Mean   :18.36  \n",
              " 3rd Qu.:78.00   3rd Qu.:72.00   3rd Qu.:76.0   3rd Qu.:14.00  \n",
              " Max.   :94.00   Max.   :94.00   Max.   :94.0   Max.   :94.00  "
            ]
          },
          "metadata": {}
        }
      ]
    },
    {
      "cell_type": "markdown",
      "source": [
        "### 1.4 Tabela de Frequência\n"
      ],
      "metadata": {
        "id": "JIUNs1mtyeCM"
      }
    },
    {
      "cell_type": "markdown",
      "source": [
        "A tabela de frequências é uma ferramenta útil para analisar dados, ajuda a entender a distribuição dos dados, identificar padrões e outliers, validar os dados e tomar decisões informadas.\n",
        "\n",
        "\n",
        "Para variáveis do tipo caracter (chr), a função ***sapply( )*** é empregada para criar uma tabela contendo apenas os dados desse tipo, excluindo **'name'** e '**full_name'** No entanto, em análises que envolvem um grande número de colunas, pode ser mais eficiente adotar uma abordagem diferente."
      ],
      "metadata": {
        "id": "tZYsjKAQy0t8"
      }
    },
    {
      "cell_type": "code",
      "source": [
        "sapply(df_fifa[,c(\"nationality\", \"national_team\", \"club_team\")], table)"
      ],
      "metadata": {
        "colab": {
          "base_uri": "https://localhost:8080/",
          "height": 1000
        },
        "id": "NuD1zoqHqLYX",
        "outputId": "98ad53d3-50bd-4be5-b642-4224add416e0"
      },
      "execution_count": null,
      "outputs": [
        {
          "output_type": "display_data",
          "data": {
            "text/plain": [
              "$nationality\n",
              "\n",
              "          Argentina           Australia             Austria             Belgium \n",
              "                 17                  13                  16                  19 \n",
              "             Brazil            Bulgaria            Cameroon              Canada \n",
              "                 23                   3                  17                  19 \n",
              "              Chile            Colombia      Czech Republic             Denmark \n",
              "                 10                  12                  20                  23 \n",
              "            Ecuador               Egypt             England             Finland \n",
              "                  6                   7                  23                  19 \n",
              "             France             Germany              Greece             Hungary \n",
              "                 23                  23                  21                   8 \n",
              "            Iceland               Italy         Ivory Coast              Mexico \n",
              "                 13                  22                  14                  10 \n",
              "        Netherlands         New Zealand              Norway            Paraguay \n",
              "                 23                   7                  22                   2 \n",
              "               Peru              Poland            Portugal Republic of Ireland \n",
              "                  7                  21                  15                  21 \n",
              "            Romania              Russia            Scotland            Slovenia \n",
              "                 11                  13                  23                  14 \n",
              "       South Africa               Spain              Sweden         Switzerland \n",
              "                  6                  23                  20                  16 \n",
              "             Turkey       United States             Uruguay           Venezuela \n",
              "                 21                  23                  15                  13 \n",
              "              Wales \n",
              "                 21 \n",
              "\n",
              "$national_team\n",
              "\n",
              "          Argentina           Australia             Austria             Belgium \n",
              "                 17                  13                  16                  19 \n",
              "             Brazil            Bulgaria            Cameroon              Canada \n",
              "                 23                   3                  17                  19 \n",
              "              Chile            Colombia       Cote d\"ivoire      Czech Republic \n",
              "                 10                  12                  14                  20 \n",
              "            Denmark             Ecuador               Egypt             England \n",
              "                 23                   6                   7                  23 \n",
              "            Finland              France             Germany              Greece \n",
              "                 19                  23                  23                  21 \n",
              "            Hungary             Iceland               Italy              Mexico \n",
              "                  8                  13                  22                  10 \n",
              "        Netherlands         New Zealand              Norway            Paraguay \n",
              "                 23                   7                  22                   2 \n",
              "               Peru              Poland            Portugal Republic of Ireland \n",
              "                  7                  21                  15                  21 \n",
              "            Romania              Russia            Scotland            Slovenia \n",
              "                 11                  13                  23                  14 \n",
              "       South Africa               Spain              Sweden         Switzerland \n",
              "                  6                  23                  20                  16 \n",
              "             Turkey       United States             Uruguay           Venezuela \n",
              "                 21                  23                  15                  13 \n",
              "              Wales \n",
              "                 21 \n",
              "\n",
              "$club_team\n",
              "\n",
              "                   1. FC Koln                1. FC Nurnberg \n",
              "                            3                             1 \n",
              "              1. FSV Mainz 05                     Aarhus GF \n",
              "                            3                             1 \n",
              "                     Aberdeen                    AEK Athens \n",
              "                            2                             5 \n",
              "                          AIK                          Ajax \n",
              "                            2                             8 \n",
              "                   Alanyaspor                   Albacete BP \n",
              "                            1                             1 \n",
              "    America FC (Minas Gerais)                     Amiens SC \n",
              "                            1                             1 \n",
              "                      Arsenal                     AS Monaco \n",
              "                            8                             5 \n",
              "             AS Saint-Etienne                   Aston Villa \n",
              "                            1                             6 \n",
              "                     Atalanta       Athletic Club de Bilbao \n",
              "                            3                             1 \n",
              "             Atiker Konyaspor                Atlanta United \n",
              "                            3                             2 \n",
              "              Atletico Madrid              Atletico Mineiro \n",
              "                           11                             4 \n",
              "                   AZ Alkmaar                      Barnsley \n",
              "                            5                             1 \n",
              "          Bayer 04 Leverkusen                   Besiktas JK \n",
              "                            7                             4 \n",
              "                    BK Hacken                     BK Häcken \n",
              "                            1                             1 \n",
              "             Blackburn Rovers                       Bologna \n",
              "                            2                             4 \n",
              "            Borussia Dortmund      Borussia Monchengladbach \n",
              "                            5                             6 \n",
              "                  Bournemouth                     Brentford \n",
              "                            5                             2 \n",
              "       Brighton & Hove Albion                  Bristol City \n",
              "                            2                             2 \n",
              "                   Brondby IF                       Burnley \n",
              "                            1                             6 \n",
              "                    Bursaspor                      Cadiz CF \n",
              "                            1                             1 \n",
              "                     Cagliari                  Cardiff City \n",
              "                            4                             4 \n",
              "                   CD Leganes                       CD Lugo \n",
              "                            3                             1 \n",
              "                       Celtic           CF Rayo Majadahonda \n",
              "                           12                             1 \n",
              "                  Chapecoense                       Chelsea \n",
              "                            1                            10 \n",
              "                 Chicago Fire                Club Brugge KV \n",
              "                            1                             2 \n",
              "              Colorado Rapids              Columbus Crew SC \n",
              "                            1                             3 \n",
              "                      Crotone                      Cruzeiro \n",
              "                            2                             2 \n",
              "               Crystal Palace                     DC United \n",
              "                            4                             2 \n",
              "             Deportivo Alaves        Deportivo de La Coruna \n",
              "                            2                             1 \n",
              "                 Derby County                     Dijon FCO \n",
              "                            4                             1 \n",
              "                Dinamo Zagreb                   Dynamo Kyiv \n",
              "                            2                             3 \n",
              "          Eintracht Frankfurt          En Avant de Guingamp \n",
              "                            2                             2 \n",
              "                      Everton                   FC Augsburg \n",
              "                            6                             4 \n",
              "                 FC Barcelona             FC Bayern Munchen \n",
              "                           11                            14 \n",
              "                    FC Dallas      FC Girondins de Bordeaux \n",
              "                            1                             1 \n",
              "                 FC Kobenhavn                       FC Metz \n",
              "                            4                             1 \n",
              "               FC Midtjylland                     FC Nantes \n",
              "                            4                             2 \n",
              "                FC Schalke 04                  FC St. Pauli \n",
              "                            2                             1 \n",
              "                Fenerbahce SK                     Feyenoord \n",
              "                            7                             2 \n",
              "                   Fiorentina                    Fluminense \n",
              "                            6                             3 \n",
              "           Fortuna Dusseldorf                     Frosinone \n",
              "                            2                             1 \n",
              "                       Fulham                Galatasaray SK \n",
              "                            4                             4 \n",
              "                        Genoa                     Girona FC \n",
              "                            3                             1 \n",
              "                   Goztepe SK                        Gremio \n",
              "                            3                             4 \n",
              "                 Hamburger SV                   Hannover 96 \n",
              "                            2                             3 \n",
              "          Heart of Midlothian                 Hellas Verona \n",
              "                            3                             1 \n",
              "                   Hertha BSC                     Hibernian \n",
              "                            5                             1 \n",
              "                 HJK Helsinki                Houston Dynamo \n",
              "                            1                             1 \n",
              "            Huddersfield Town                     Hull City \n",
              "                            2                             3 \n",
              "               IFK Norrkoping                         Inter \n",
              "                            1                             7 \n",
              "                Internacional                  Ipswich Town \n",
              "                            5                             1 \n",
              "                     Juventus                      KAA Gent \n",
              "                           14                             3 \n",
              "                Kaizer Chiefs                  Kasimpasa SK \n",
              "                            1                             2 \n",
              "                  Kayserispor                      KRC Genk \n",
              "                            1                             3 \n",
              "                  KV Oostende La Berrichonne de Chateauroux \n",
              "                            1                             1 \n",
              "                    LA Galaxy                         Lazio \n",
              "                            3                             2 \n",
              "                 Leeds United                Legia Warszawa \n",
              "                            3                             3 \n",
              "               Leicester City                    Levante UD \n",
              "                            8                             1 \n",
              "                    Liverpool              Lokomotiv Moscow \n",
              "                            9                             6 \n",
              "               Los Angeles FC                    LOSC Lille \n",
              "                            3                             1 \n",
              "                     Malmo FF               Manchester City \n",
              "                            1                            10 \n",
              "            Manchester United         Medipol Basaksehir FK \n",
              "                           12                             3 \n",
              "                Middlesbrough                         Milan \n",
              "                            1                             7 \n",
              "                     Millwall           Minnesota United FC \n",
              "                            2                             3 \n",
              "              Montpellier HSC               Montreal Impact \n",
              "                            1                             2 \n",
              "                    NAC Breda                        Napoli \n",
              "                            1                             6 \n",
              "             New York City FC            New York Red Bulls \n",
              "                            1                             1 \n",
              "             Newcastle United                  Norwich City \n",
              "                            4                             2 \n",
              "            Nottingham Forest               Odense Boldklub \n",
              "                            1                             2 \n",
              "               Olympiacos CFP        Olympique de Marseille \n",
              "                            6                             5 \n",
              "           Olympique Lyonnais                     Orebro SK \n",
              "                            3                             1 \n",
              "              Orlando City SC               Orlando Pirates \n",
              "                            3                             2 \n",
              "                      Palermo              Panathinaikos FC \n",
              "                            2                             1 \n",
              "                         PAOK                      Paris FC \n",
              "                            6                             1 \n",
              "          Paris Saint-Germain                         Parma \n",
              "                           10                             2 \n",
              "                   PEC Zwolle               PFC CSKA Moscow \n",
              "                            1                             3 \n",
              "           Philadelphia Union                Pogon Szczecin \n",
              "                            1                             2 \n",
              "             Portland Timbers             Preston North End \n",
              "                            2                             2 \n",
              "                          PSV           Queens Park Rangers \n",
              "                           10                             1 \n",
              "                   Rangers FC                Rayo Vallecano \n",
              "                            3                             1 \n",
              "                   RB Leipzig                      RC Celta \n",
              "                            9                             5 \n",
              "         RC Strasbourg Alsace                  RCD Espanyol \n",
              "                            2                             1 \n",
              "                      Reading                    Real Betis \n",
              "                            4                             4 \n",
              "                  Real Madrid                Real Salt Lake \n",
              "                           11                             1 \n",
              "                Real Sociedad        Real Sporting de Gijon \n",
              "                            1                             1 \n",
              "           Real Valladolid CF                   Red Star FC \n",
              "                            1                             1 \n",
              "                     Rizespor                          Roma \n",
              "                            1                             7 \n",
              "                 Rosenborg BK              Royal Antwerp FC \n",
              "                            3                             1 \n",
              "         Royal Excel Mouscron                RSC Anderlecht \n",
              "                            1                             1 \n",
              "                    Sampdoria          San Jose Earthquakes \n",
              "                            4                             1 \n",
              "                       Santos                      Sassuolo \n",
              "                            2                             1 \n",
              "                  SC Freiburg             Scunthorpe United \n",
              "                            2                             1 \n",
              "                    SD Huesca           Seattle Sounders FC \n",
              "                            2                             4 \n",
              "                   Sevilla FC              Sheffield United \n",
              "                            5                             2 \n",
              "          Sheffield Wednesday               SK Slavia Praha \n",
              "                            1                             8 \n",
              "                  SonderjyskE                   Southampton \n",
              "                            1                             5 \n",
              "                         SPAL                  Sparta Praha \n",
              "                            1                             2 \n",
              "               Spartak Moscow          Sporting Kansas City \n",
              "                            3                             3 \n",
              "             Sporting Lokeren             Stade Brestois 29 \n",
              "                            1                             1 \n",
              "             Stade Rennais FC             Standard de Liege \n",
              "                            1                             3 \n",
              "                   Stoke City                 SV Sandhausen \n",
              "                            5                             1 \n",
              "             SV Werder Bremen                  Swansea City \n",
              "                            3                             4 \n",
              "                       Torino                    Toronto FC \n",
              "                            3                             3 \n",
              "            Tottenham Hotspur        Toulouse Football Club \n",
              "                           14                             3 \n",
              "                  Trabzonspor           TSG 1899 Hoffenheim \n",
              "                            1                             3 \n",
              "                      Udinese                   Valencia CF \n",
              "                            3                             4 \n",
              "       Vancouver Whitecaps FC                 VfB Stuttgart \n",
              "                            5                             3 \n",
              "              VfL Bochum 1848                 VfL Wolfsburg \n",
              "                            1                             3 \n",
              "               Viktoria Plzen                 Villarreal CF \n",
              "                            5                             3 \n",
              "                      Vitesse                       Watford \n",
              "                            1                             3 \n",
              "         West Bromwich Albion               West Ham United \n",
              "                            4                             3 \n",
              "               Wigan Athletic                     Willem II \n",
              "                            2                             2 \n",
              "          WisWieczysta Krakow       Wolverhampton Wanderers \n",
              "                            2                             5 \n",
              "             Yeni Malatyaspor \n",
              "                            1 \n"
            ]
          },
          "metadata": {}
        }
      ]
    },
    {
      "cell_type": "markdown",
      "source": [
        "Para visualizar estatísticas descritivas sobre o conjunto de dados, vamos utilizar a função **skimr**.\n",
        "\n",
        "<small>**Lembrando: o pacote foi instalado e carregado na seção *Bibliotecas*.**</small>\n",
        "\n",
        "\n"
      ],
      "metadata": {
        "id": "WUfZYnrS7nca"
      }
    },
    {
      "cell_type": "code",
      "source": [
        "skimr::skim(df_fifa)"
      ],
      "metadata": {
        "id": "u1aa_7w9CVnf",
        "outputId": "8735d365-b4a9-4bcb-dc06-62b54e962db0",
        "colab": {
          "base_uri": "https://localhost:8080/",
          "height": 1000
        }
      },
      "execution_count": 117,
      "outputs": [
        {
          "output_type": "stream",
          "name": "stderr",
          "text": [
            "Warning message:\n",
            "“\u001b[1m\u001b[22mThere was 1 warning in `dplyr::summarize()`.\n",
            "\u001b[1m\u001b[22m\u001b[36mℹ\u001b[39m In argument: `dplyr::across(tidyselect::any_of(variable_names),\n",
            "  mangled_skimmers$funs)`.\n",
            "\u001b[36mℹ\u001b[39m In group 0: .\n",
            "Caused by warning:\n",
            "\u001b[33m!\u001b[39m \u001b[1m\u001b[22mThere were 307 warnings in `dplyr::summarize()`.\n",
            "The first warning was:\n",
            "\u001b[1m\u001b[22m\u001b[36mℹ\u001b[39m In argument: `dplyr::across(tidyselect::any_of(variable_names),\n",
            "  mangled_skimmers$funs)`.\n",
            "Caused by warning in `grepl()`:\n",
            "\u001b[33m!\u001b[39m unable to translate 'Mart<ed>nez' to a wide string\n",
            "\u001b[1m\u001b[22m\u001b[36mℹ\u001b[39m Run `dplyr::last_dplyr_warnings()` to see the 306 remaining warnings.”\n"
          ]
        },
        {
          "output_type": "stream",
          "name": "stdout",
          "text": [
            "── Data Summary ────────────────────────\n",
            "                           Values \n",
            "Name                       df_fifa\n",
            "Number of rows             718    \n",
            "Number of columns          31     \n",
            "_______________________           \n",
            "Column type frequency:            \n",
            "  character                5      \n",
            "  numeric                  26     \n",
            "________________________          \n",
            "Group variables            None   \n",
            "\n",
            "── Variable type: character ────────────────────────────────────────────────────\n",
            "  skim_variable n_missing complete_rate min max empty n_unique whitespace\n",
            "\u001b[90m1\u001b[39m name                  0             1   2  16     0      687          0\n",
            "\u001b[90m2\u001b[39m full_name             0             1   8  42     0      718          0\n",
            "\u001b[90m3\u001b[39m nationality           0             1   4  19     0       45          0\n",
            "\u001b[90m4\u001b[39m national_team         0             1   4  19     0       45          0\n",
            "\u001b[90m5\u001b[39m club_team             0             1   3  29     0      227          0\n",
            "\n",
            "── Variable type: numeric ──────────────────────────────────────────────────────\n",
            "   skim_variable                 n_missing complete_rate          mean\n",
            "\u001b[90m 1\u001b[39m id                                    0             1   \u001b[4m2\u001b[24m\u001b[4m0\u001b[24m\u001b[4m3\u001b[24m668.    \n",
            "\u001b[90m 2\u001b[39m overall_rating                        0             1       76.5   \n",
            "\u001b[90m 3\u001b[39m value_euro                            0             1 13\u001b[4m8\u001b[24m\u001b[4m9\u001b[24m\u001b[4m7\u001b[24m695.    \n",
            "\u001b[90m 4\u001b[39m wage_euro                             0             1    \u001b[4m4\u001b[24m\u001b[4m9\u001b[24m560.    \n",
            "\u001b[90m 5\u001b[39m age                                   0             1       26.6   \n",
            "\u001b[90m 6\u001b[39m height_cm                             0             1      177.    \n",
            "\u001b[90m 7\u001b[39m weight_kgs                            0             1       77.7   \n",
            "\u001b[90m 8\u001b[39m international_reputation.1.5.         0             1        1.67  \n",
            "\u001b[90m 9\u001b[39m weak_foot.1.5.                        0             1        3.19  \n",
            "\u001b[90m10\u001b[39m skill_moves.1.5.                      0             1        2.79  \n",
            "\u001b[90m11\u001b[39m club_rating                           0             1       76.0   \n",
            "\u001b[90m12\u001b[39m Goleiro                               0             1        0.041\u001b[4m8\u001b[24m\n",
            "\u001b[90m13\u001b[39m Zagueiro                              0             1        0.075\u001b[4m2\u001b[24m\n",
            "\u001b[90m14\u001b[39m Meio                                  0             1        0.082\u001b[4m2\u001b[24m\n",
            "\u001b[90m15\u001b[39m Atacante                              0             1        0.100 \n",
            "\u001b[90m16\u001b[39m crossing                              0             1       58.6   \n",
            "\u001b[90m17\u001b[39m finishing                             0             1       53.4   \n",
            "\u001b[90m18\u001b[39m heading_accuracy                      0             1       59.1   \n",
            "\u001b[90m19\u001b[39m short_passing                         0             1       68.2   \n",
            "\u001b[90m20\u001b[39m dribbling                             0             1       64.4   \n",
            "\u001b[90m21\u001b[39m jumping                               0             1       69.2   \n",
            "\u001b[90m22\u001b[39m strength                              0             1       70.9   \n",
            "\u001b[90m23\u001b[39m long_shots                            0             1       56.9   \n",
            "\u001b[90m24\u001b[39m aggression                            0             1       64.1   \n",
            "\u001b[90m25\u001b[39m GK_reflexes                           0             1       18.4   \n",
            "\u001b[90m26\u001b[39m value_euro_milhao                     0             1       13.9   \n",
            "             sd        p0        p25     p50       p75       p100 hist \n",
            "\u001b[90m 1\u001b[39m    \u001b[4m2\u001b[24m\u001b[4m4\u001b[24m500.     \u001b[4m2\u001b[24m\u001b[4m0\u001b[24m801     \u001b[4m1\u001b[24m\u001b[4m8\u001b[24m\u001b[4m9\u001b[24m831.    \u001b[4m2\u001b[24m\u001b[4m0\u001b[24m\u001b[4m4\u001b[24m626   \u001b[4m2\u001b[24m\u001b[4m2\u001b[24m\u001b[4m2\u001b[24m200.    \u001b[4m2\u001b[24m\u001b[4m4\u001b[24m\u001b[4m6\u001b[24m387  ▁▁▁▆▇\n",
            "\u001b[90m 2\u001b[39m        6.02      58         72         76       80         94  ▁▅▇▅▁\n",
            "\u001b[90m 3\u001b[39m 16\u001b[4m9\u001b[24m\u001b[4m1\u001b[24m\u001b[4m7\u001b[24m514.    \u001b[4m2\u001b[24m\u001b[4m3\u001b[24m\u001b[4m0\u001b[24m000    3\u001b[4m3\u001b[24m\u001b[4m2\u001b[24m\u001b[4m5\u001b[24m000    8\u001b[4m0\u001b[24m\u001b[4m0\u001b[24m\u001b[4m0\u001b[24m000 17\u001b[4m0\u001b[24m\u001b[4m0\u001b[24m\u001b[4m0\u001b[24m000  110\u001b[4m5\u001b[24m\u001b[4m0\u001b[24m\u001b[4m0\u001b[24m000  ▇▁▁▁▁\n",
            "\u001b[90m 4\u001b[39m    \u001b[4m6\u001b[24m\u001b[4m5\u001b[24m225.      \u001b[4m1\u001b[24m000      \u001b[4m1\u001b[24m\u001b[4m0\u001b[24m000      \u001b[4m2\u001b[24m\u001b[4m7\u001b[24m000    \u001b[4m5\u001b[24m\u001b[4m9\u001b[24m000     \u001b[4m5\u001b[24m\u001b[4m6\u001b[24m\u001b[4m5\u001b[24m000  ▇▁▁▁▁\n",
            "\u001b[90m 5\u001b[39m        3.59      18         24         26       29         37  ▂▇▇▅▁\n",
            "\u001b[90m 6\u001b[39m       14.3      152        170        183      188        203  ▃▁▂▇▂\n",
            "\u001b[90m 7\u001b[39m        7.30      59         73         77       82        100  ▂▆▇▃▁\n",
            "\u001b[90m 8\u001b[39m        0.892      1          1          1        2          5  ▇▃▂▁▁\n",
            "\u001b[90m 9\u001b[39m        0.755      1          3          3        4          5  ▁▂▇▅▁\n",
            "\u001b[90m10\u001b[39m        0.952      1          2          3        3          5  ▂▃▇▃▁\n",
            "\u001b[90m11\u001b[39m        5.26      60         72         76       80         86  ▁▃▇▇▅\n",
            "\u001b[90m12\u001b[39m        0.200      0          0          0        0          1  ▇▁▁▁▁\n",
            "\u001b[90m13\u001b[39m        0.264      0          0          0        0          1  ▇▁▁▁▁\n",
            "\u001b[90m14\u001b[39m        0.275      0          0          0        0          1  ▇▁▁▁▁\n",
            "\u001b[90m15\u001b[39m        0.301      0          0          0        0          1  ▇▁▁▁▁\n",
            "\u001b[90m16\u001b[39m       20.6        8         49         65       73         93  ▂▁▃▇▃\n",
            "\u001b[90m17\u001b[39m       22.1        7         37         58       70         95  ▃▃▅▇▂\n",
            "\u001b[90m18\u001b[39m       20.0        7         52         64       73         93  ▂▁▅▇▃\n",
            "\u001b[90m19\u001b[39m       15.3       11         65         72       78         92  ▁▁▁▇▆\n",
            "\u001b[90m20\u001b[39m       20.6        7         60.2       70       77         97  ▂▁▂▇▂\n",
            "\u001b[90m21\u001b[39m       11.8       28         63         70       77         95  ▁▂▆▇▃\n",
            "\u001b[90m22\u001b[39m       10.5       30         65         72       78         94  ▁▁▅▇▂\n",
            "\u001b[90m23\u001b[39m       21.4        5         46.2       63       72         94  ▂▂▃▇▂\n",
            "\u001b[90m24\u001b[39m       17.3       17         56         68       76         94  ▂▂▅▇▅\n",
            "\u001b[90m25\u001b[39m       22.2        2          8         11       14         94  ▇▁▁▁▁\n",
            "\u001b[90m26\u001b[39m       16.9        0.23       3.32       8       17        110. ▇▁▁▁▁\n"
          ]
        },
        {
          "output_type": "error",
          "ename": "ERROR",
          "evalue": "Error in is.null(text_repr) || nchar(text_repr) == 0L: 'length = 17' in coercion to 'logical(1)'\n",
          "traceback": [
            "Error in is.null(text_repr) || nchar(text_repr) == 0L: 'length = 17' in coercion to 'logical(1)'\nTraceback:\n"
          ]
        }
      ]
    },
    {
      "cell_type": "markdown",
      "source": [
        "A análise do valor do jogador no mercado (`value_euro`) em relação á nacionalidade (`nationality`) é importante para verificar disparidades econômicas, o desenvolvimento do futebol, tendências de mercado e estratégias de recrutamento, auxiliando na tomada de decisão. Por exemplo, é observado que um jogador da **Nova Zelândia** possui o **menor valor de mercado em Euros**, enquanto um jogador da **Argentina** possui o **maior valor de mercado em Euros**."
      ],
      "metadata": {
        "id": "2HnVAlvE3qG-"
      }
    },
    {
      "cell_type": "code",
      "source": [
        "# df_fifa$value_euro_milhao <- df_fifa$value_euro/1000000\n",
        "by(df_fifa$value_euro, df_fifa$nationality, summary)"
      ],
      "metadata": {
        "colab": {
          "base_uri": "https://localhost:8080/",
          "height": 1000
        },
        "id": "GUQvIvcXbZsw",
        "outputId": "a716d064-7057-4b42-ab76-bd835da16c09"
      },
      "execution_count": 119,
      "outputs": [
        {
          "output_type": "display_data",
          "data": {
            "text/plain": [
              "df_fifa$nationality: Argentina\n",
              "     Min.   1st Qu.    Median      Mean   3rd Qu.      Max. \n",
              "  8500000  14500000  18000000  31647059  30000000 110500000 \n",
              "------------------------------------------------------------ \n",
              "df_fifa$nationality: Australia\n",
              "    Min.  1st Qu.   Median     Mean  3rd Qu.     Max. \n",
              "  675000  2600000  3100000  4401923  5500000 13000000 \n",
              "------------------------------------------------------------ \n",
              "df_fifa$nationality: Austria\n",
              "    Min.  1st Qu.   Median     Mean  3rd Qu.     Max. \n",
              " 3800000  7375000  8500000 11612500 12625000 30500000 \n",
              "------------------------------------------------------------ \n",
              "df_fifa$nationality: Belgium\n",
              "     Min.   1st Qu.    Median      Mean   3rd Qu.      Max. \n",
              "  5000000  16750000  22000000  34131579  44500000 102000000 \n",
              "------------------------------------------------------------ \n",
              "df_fifa$nationality: Brazil\n",
              "     Min.   1st Qu.    Median      Mean   3rd Qu.      Max. \n",
              "  2700000   6750000   9000000  15339130  15250000 108000000 \n",
              "------------------------------------------------------------ \n",
              "df_fifa$nationality: Bulgaria\n",
              "   Min. 1st Qu.  Median    Mean 3rd Qu.    Max. \n",
              " 475000  512500  550000  841667 1025000 1500000 \n",
              "------------------------------------------------------------ \n",
              "df_fifa$nationality: Cameroon\n",
              "    Min.  1st Qu.   Median     Mean  3rd Qu.     Max. \n",
              "  725000  1300000  5000000  5445588  8000000 15000000 \n",
              "------------------------------------------------------------ \n",
              "df_fifa$nationality: Canada\n",
              "   Min. 1st Qu.  Median    Mean 3rd Qu.    Max. \n",
              " 375000  675000  875000 2317105 3250000 8000000 \n",
              "------------------------------------------------------------ \n",
              "df_fifa$nationality: Chile\n",
              "    Min.  1st Qu.   Median     Mean  3rd Qu.     Max. \n",
              " 4800000  6625000  9750000 13430000 15250000 33000000 \n",
              "------------------------------------------------------------ \n",
              "df_fifa$nationality: Colombia\n",
              "    Min.  1st Qu.   Median     Mean  3rd Qu.     Max. \n",
              " 1800000 11250000 15000000 19983333 26125000 59000000 \n",
              "------------------------------------------------------------ \n",
              "df_fifa$nationality: Czech Republic\n",
              "    Min.  1st Qu.   Median     Mean  3rd Qu.     Max. \n",
              " 1800000  3100000  4500000  6240000  9250000 14000000 \n",
              "------------------------------------------------------------ \n",
              "df_fifa$nationality: Denmark\n",
              "    Min.  1st Qu.   Median     Mean  3rd Qu.     Max. \n",
              " 1100000  6250000  8500000 12391304 14000000 69500000 \n",
              "------------------------------------------------------------ \n",
              "df_fifa$nationality: Ecuador\n",
              "   Min. 1st Qu.  Median    Mean 3rd Qu.    Max. \n",
              " 725000 1975000 3750000 3854167 5825000 7000000 \n",
              "------------------------------------------------------------ \n",
              "df_fifa$nationality: Egypt\n",
              "    Min.  1st Qu.   Median     Mean  3rd Qu.     Max. \n",
              " 1300000  4600000  7500000 16928571 11000000 78500000 \n",
              "------------------------------------------------------------ \n",
              "df_fifa$nationality: England\n",
              "    Min.  1st Qu.   Median     Mean  3rd Qu.     Max. \n",
              " 7000000 14250000 17500000 25000000 25750000 96500000 \n",
              "------------------------------------------------------------ \n",
              "df_fifa$nationality: Finland\n",
              "    Min.  1st Qu.   Median     Mean  3rd Qu.     Max. \n",
              "  240000   700000  1300000  2878421  2650000 22000000 \n",
              "------------------------------------------------------------ \n",
              "df_fifa$nationality: France\n",
              "    Min.  1st Qu.   Median     Mean  3rd Qu.     Max. \n",
              "11000000 15750000 26000000 33173913 41500000 81000000 \n",
              "------------------------------------------------------------ \n",
              "df_fifa$nationality: Germany\n",
              "    Min.  1st Qu.   Median     Mean  3rd Qu.     Max. \n",
              " 8500000 23750000 34000000 35565217 45000000 76500000 \n",
              "------------------------------------------------------------ \n",
              "df_fifa$nationality: Greece\n",
              "    Min.  1st Qu.   Median     Mean  3rd Qu.     Max. \n",
              " 1200000  2800000  5000000  7300000  8500000 36500000 \n",
              "------------------------------------------------------------ \n",
              "df_fifa$nationality: Hungary\n",
              "    Min.  1st Qu.   Median     Mean  3rd Qu.     Max. \n",
              "  750000  3750000  6750000  7568750 10375000 18000000 \n",
              "------------------------------------------------------------ \n",
              "df_fifa$nationality: Iceland\n",
              "    Min.  1st Qu.   Median     Mean  3rd Qu.     Max. \n",
              "  575000  1100000  2200000  5373077  4500000 22500000 \n",
              "------------------------------------------------------------ \n",
              "df_fifa$nationality: Italy\n",
              "    Min.  1st Qu.   Median     Mean  3rd Qu.     Max. \n",
              " 7500000 12125000 18750000 24113636 30000000 62000000 \n",
              "------------------------------------------------------------ \n",
              "df_fifa$nationality: Ivory Coast\n",
              "    Min.  1st Qu.   Median     Mean  3rd Qu.     Max. \n",
              "  700000  3300000  5500000  7466071  9750000 19500000 \n",
              "------------------------------------------------------------ \n",
              "df_fifa$nationality: Mexico\n",
              "    Min.  1st Qu.   Median     Mean  3rd Qu.     Max. \n",
              " 5000000  8000000 10500000 12250000 12750000 29500000 \n",
              "------------------------------------------------------------ \n",
              "df_fifa$nationality: Netherlands\n",
              "    Min.  1st Qu.   Median     Mean  3rd Qu.     Max. \n",
              " 5500000 11500000 16000000 19608696 27250000 59500000 \n",
              "------------------------------------------------------------ \n",
              "df_fifa$nationality: New Zealand\n",
              "    Min.  1st Qu.   Median     Mean  3rd Qu.     Max. \n",
              "  230000   450000   950000  3240000  5050000 10500000 \n",
              "------------------------------------------------------------ \n",
              "df_fifa$nationality: Norway\n",
              "    Min.  1st Qu.   Median     Mean  3rd Qu.     Max. \n",
              " 2000000  3425000  4450000  5759091  6750000 14000000 \n",
              "------------------------------------------------------------ \n",
              "df_fifa$nationality: Paraguay\n",
              "    Min.  1st Qu.   Median     Mean  3rd Qu.     Max. \n",
              " 2500000  5625000  8750000  8750000 11875000 15000000 \n",
              "------------------------------------------------------------ \n",
              "df_fifa$nationality: Peru\n",
              "   Min. 1st Qu.  Median    Mean 3rd Qu.    Max. \n",
              "1400000 3400000 6500000 5171429 6750000 8000000 \n",
              "------------------------------------------------------------ \n",
              "df_fifa$nationality: Poland\n",
              "    Min.  1st Qu.   Median     Mean  3rd Qu.     Max. \n",
              "  425000  3700000  4400000 12336905 10500000 77000000 \n",
              "------------------------------------------------------------ \n",
              "df_fifa$nationality: Portugal\n",
              "    Min.  1st Qu.   Median     Mean  3rd Qu.     Max. \n",
              " 1000000 10750000 21000000 23800000 28000000 77000000 \n",
              "------------------------------------------------------------ \n",
              "df_fifa$nationality: Republic of Ireland\n",
              "   Min. 1st Qu.  Median    Mean 3rd Qu.    Max. \n",
              " 325000 2400000 3400000 4220238 6000000 9500000 \n",
              "------------------------------------------------------------ \n",
              "df_fifa$nationality: Romania\n",
              "    Min.  1st Qu.   Median     Mean  3rd Qu.     Max. \n",
              "  500000  1237500  2000000  3754545  5850000 10500000 \n",
              "------------------------------------------------------------ \n",
              "df_fifa$nationality: Russia\n",
              "    Min.  1st Qu.   Median     Mean  3rd Qu.     Max. \n",
              " 2000000  6000000  8500000  9515385 14000000 18500000 \n",
              "------------------------------------------------------------ \n",
              "df_fifa$nationality: Scotland\n",
              "    Min.  1st Qu.   Median     Mean  3rd Qu.     Max. \n",
              "  900000  1700000  4600000  6014130  7750000 29000000 \n",
              "------------------------------------------------------------ \n",
              "df_fifa$nationality: Slovenia\n",
              "    Min.  1st Qu.   Median     Mean  3rd Qu.     Max. \n",
              "  750000  2925000  4850000 11025000 12125000 68000000 \n",
              "------------------------------------------------------------ \n",
              "df_fifa$nationality: South Africa\n",
              "   Min. 1st Qu.  Median    Mean 3rd Qu.    Max. \n",
              " 550000 1012500 1550000 2966667 3625000 9000000 \n",
              "------------------------------------------------------------ \n",
              "df_fifa$nationality: Spain\n",
              "    Min.  1st Qu.   Median     Mean  3rd Qu.     Max. \n",
              "14000000 26250000 32000000 36065217 42750000 72000000 \n",
              "------------------------------------------------------------ \n",
              "df_fifa$nationality: Sweden\n",
              "    Min.  1st Qu.   Median     Mean  3rd Qu.     Max. \n",
              " 1600000  3025000  6000000  7305000  8625000 26000000 \n",
              "------------------------------------------------------------ \n",
              "df_fifa$nationality: Switzerland\n",
              "    Min.  1st Qu.   Median     Mean  3rd Qu.     Max. \n",
              " 2500000  4550000  9000000 11287500 16875000 24000000 \n",
              "------------------------------------------------------------ \n",
              "df_fifa$nationality: Turkey\n",
              "    Min.  1st Qu.   Median     Mean  3rd Qu.     Max. \n",
              "  700000  3200000  7000000  7180952 10500000 19000000 \n",
              "------------------------------------------------------------ \n",
              "df_fifa$nationality: United States\n",
              "    Min.  1st Qu.   Median     Mean  3rd Qu.     Max. \n",
              " 1100000  2900000  4700000  5434783  6750000 15000000 \n",
              "------------------------------------------------------------ \n",
              "df_fifa$nationality: Uruguay\n",
              "    Min.  1st Qu.   Median     Mean  3rd Qu.     Max. \n",
              " 2800000 12250000 16000000 24653333 29500000 80000000 \n",
              "------------------------------------------------------------ \n",
              "df_fifa$nationality: Venezuela\n",
              "    Min.  1st Qu.   Median     Mean  3rd Qu.     Max. \n",
              "  500000  1100000  4300000  5713462  8000000 28500000 \n",
              "------------------------------------------------------------ \n",
              "df_fifa$nationality: Wales\n",
              "    Min.  1st Qu.   Median     Mean  3rd Qu.     Max. \n",
              "  500000  1600000  3900000  8063095  7500000 60000000 "
            ]
          },
          "metadata": {}
        }
      ]
    },
    {
      "cell_type": "markdown",
      "source": [
        "### 1.5 Gráficos\n"
      ],
      "metadata": {
        "id": "bPf_-GDVACeq"
      }
    },
    {
      "cell_type": "markdown",
      "source": [
        " O gráfico de boxplot é uma ferramenta versátil e eficaz para explorar a distribuição e a dispersão dos dados, identificar valores discrepantes e comparar diferentes grupos de dados de forma rápida e intuitiva."
      ],
      "metadata": {
        "id": "9Sh1tXORFXEW"
      }
    },
    {
      "cell_type": "markdown",
      "source": [
        "A variável escolhida para a análise é o valor do jogador no mercado em Euros. No entanto, para uma visualização mais eficaz dos gráficos, utilizou-se euros por milhão."
      ],
      "metadata": {
        "id": "FY6MScc5Fhc9"
      }
    },
    {
      "cell_type": "code",
      "source": [
        "df_fifa$value_euro_milhao <- df_fifa$value_euro/1000000 #Euro por milhão"
      ],
      "metadata": {
        "id": "lE31UifZpVmN"
      },
      "execution_count": 265,
      "outputs": []
    },
    {
      "cell_type": "markdown",
      "source": [
        "Para visualizar as estatísticas descritivas referentes ao valor do jogador no mercado, em milhões de euros, e sua nacionalidade, foi criado um gráfico de boxplot."
      ],
      "metadata": {
        "id": "rk82Gwx9GMT1"
      }
    },
    {
      "cell_type": "code",
      "source": [
        "boxplot(value_euro_milhao ~ nationality, data = df_fifa )"
      ],
      "metadata": {
        "colab": {
          "base_uri": "https://localhost:8080/",
          "height": 437
        },
        "id": "y77X_KEqAN7e",
        "outputId": "a761ac4b-d6b0-474c-a6b5-5e566a088ced"
      },
      "execution_count": 263,
      "outputs": [
        {
          "output_type": "display_data",
          "data": {
            "text/plain": [
              "plot without title"
            ],
            "image/png": "[encoded data removed]"
          },
          "metadata": {
            "image/png": {
              "width": 420,
              "height": 420
            }
          }
        }
      ]
    },
    {
      "cell_type": "markdown",
      "source": [
        "Outra análise que pode ser feita é da nacionalidade pelo valor mediano do jogador no mercado, em milhões de euros. A função ***ggplot( )*** do pacote da biblioteca **tidyverse** proporciona gráficos mais estruturados"
      ],
      "metadata": {
        "id": "8OFpvIJXHe9L"
      }
    },
    {
      "cell_type": "code",
      "source": [
        "df_fifa %>%\n",
        "  ggplot(aes(x = reorder(nationality, value_euro_milhao, median, na.rm = TRUE), y = value_euro_milhao)) +\n",
        "  geom_boxplot() +\n",
        "  labs(y = 'Valor no Mercado (em milhões de Euros)', x = 'Nacionalidade',\n",
        "       subtitle = 'Valor do jogador no mercado por nacionalidade') +\n",
        "  theme(axis.text.x = element_text(angle = 90, vjust = 1, hjust = 1))"
      ],
      "metadata": {
        "colab": {
          "base_uri": "https://localhost:8080/",
          "height": 437
        },
        "id": "yYKKamguCruK",
        "outputId": "9d853d98-bdb5-4c69-dd3c-8d118b2d829d"
      },
      "execution_count": 264,
      "outputs": [
        {
          "output_type": "display_data",
          "data": {
            "text/plain": [
              "plot without title"
            ],
            "image/png": "[encoded data removed]"
          },
          "metadata": {
            "image/png": {
              "width": 420,
              "height": 420
            }
          }
        }
      ]
    },
    {
      "cell_type": "markdown",
      "source": [],
      "metadata": {
        "id": "wbbHtr-lNU1K"
      }
    },
    {
      "cell_type": "markdown",
      "source": [],
      "metadata": {
        "id": "slflDthwNs6r"
      }
    },
    {
      "cell_type": "markdown",
      "source": [
        "### 1.6 Comportamento Probabilístico"
      ],
      "metadata": {
        "id": "GTaSWBIbE6VQ"
      }
    },
    {
      "cell_type": "markdown",
      "source": [
        "Para verificar o comportamento probabilístico da variável `value_euro_milhao`, derivada da variável `value_euro`, utiliza-se a distribuição acumulada empírica e a função de distribuição acumulada teórica."
      ],
      "metadata": {
        "id": "zm2J_eNuM3x7"
      }
    },
    {
      "cell_type": "markdown",
      "source": [
        "O histograma é uma ferramenta valiosa na análise exploratória de dados, fornecendo insights sobre a distribuição. Ele permite visualizar que a maioria dos jogadores possui um valor de mercado abaixo de 20 milhões de euros."
      ],
      "metadata": {
        "id": "hmFz2ab6OXh6"
      }
    },
    {
      "cell_type": "code",
      "source": [
        "## Histograma\n",
        "hist(df_fifa$value_euro_milhao,\n",
        "main = \"Histograma\n",
        " Valor do Jogador no Mercado\n",
        " (em milhões de Euros)\",\n",
        "xlab = \"Valor do Jogador\n",
        "(em milhões de Euros)\",\n",
        "col = \"violet\",\n",
        "border = FALSE)\n"
      ],
      "metadata": {
        "colab": {
          "base_uri": "https://localhost:8080/",
          "height": 437
        },
        "id": "ysNG8Xre8Yq4",
        "outputId": "992171ad-f63b-49a7-cca4-7dede275646f"
      },
      "execution_count": 256,
      "outputs": [
        {
          "output_type": "display_data",
          "data": {
            "text/plain": [
              "Plot with title “Histograma \n",
              " Valor do Jogador no Mercado \n",
              " (em milhões de Euros)”"
            ],
            "image/png": "[encoded data removed]"
          },
          "metadata": {
            "image/png": {
              "width": 420,
              "height": 420
            }
          }
        }
      ]
    },
    {
      "cell_type": "markdown",
      "source": [
        "Para realizar a função de distribuição acumulada teórica é necessário calcular a média e o desvio padrão."
      ],
      "metadata": {
        "id": "0xpDSf74PW3K"
      }
    },
    {
      "cell_type": "code",
      "source": [
        "## Média\n",
        "media <- mean(df_fifa$value_euro_milhao)\n",
        "media_formatada <- format(media, decimal.mark = \",\", big.mark = \".\") # Formatando o número com pontos e vírgula para as casas decimais.\n",
        "cat('Média (por milhão) = ', media_formatada)\n",
        "\n",
        "cat('\\n')\n",
        "\n",
        "## Desvio Padrão\n",
        "desvio <- sd(df_fifa$value_euro_milhao)\n",
        "desvio_formatado <- format(desvio, decimal.mark = \",\", big.mark = \".\") # Formatando o número com pontos e vírgula para as casas decimais.\n",
        "cat('Desvio Padrão Amostral (por milhão) = ', desvio_formatado)"
      ],
      "metadata": {
        "colab": {
          "base_uri": "https://localhost:8080/"
        },
        "id": "fIsq9osq8Vao",
        "outputId": "73471ebd-6c8d-47c8-ae14-272c06940602"
      },
      "execution_count": 240,
      "outputs": [
        {
          "output_type": "stream",
          "name": "stdout",
          "text": [
            "Média (por milhão) =  13,89769\n",
            "Desvio Padrão Amostral (por milhão) =  16,91751"
          ]
        }
      ]
    },
    {
      "cell_type": "markdown",
      "source": [
        "A *distribuição acumulada empírica (ECDF)* é uma função estatística que descreve a probabilidade acumulada de uma **variável aleatória ser menor ou igual a um determinado valor observado**. Já a *função de distribuição acumulada teórica (CDF)* descreve a probabilidade acumulada de u**ma variável aleatória tomar um valor igual ou menor que um determinado valor**."
      ],
      "metadata": {
        "id": "-617DYNIP5hq"
      }
    },
    {
      "cell_type": "code",
      "source": [
        "## Distribuição Acumulada Empírica\n",
        "cs <- ecdf(df_fifa$value_euro_milhao)\n",
        "plot(cs,\n",
        "main = \"Modelo Probabilístico\n",
        "Valor do Jogador no Mercado\n",
        "(em milhões de Euros)\",\n",
        "xlab = \"Valor do Jogador\n",
        "(em milhões de Euros)\",\n",
        "col = \"darkgray\")\n",
        "\n",
        "##  Função de Distribuição Acumulada Teórica\n",
        "curve(pnorm(x,media,desvio), min(df_fifa$value_euro_milhao), max(df_fifa$value_euro_milhao), add = TRUE, col = 'violet', lwd = 5)\n"
      ],
      "metadata": {
        "colab": {
          "base_uri": "https://localhost:8080/",
          "height": 437
        },
        "id": "fDvCM7O5ePZU",
        "outputId": "c35b80a9-753a-4d2a-84bf-c4f334014082"
      },
      "execution_count": 269,
      "outputs": [
        {
          "output_type": "display_data",
          "data": {
            "text/plain": [
              "Plot with title “Modelo Probabilístico\n",
              "Valor do Jogador no Mercado \n",
              "(em milhões de Euros)”"
            ],
            "image/png": "[encoded data removed]"
          },
          "metadata": {
            "image/png": {
              "width": 420,
              "height": 420
            }
          }
        }
      ]
    },
    {
      "cell_type": "markdown",
      "source": [
        "Ao comparar o ECDF com a função CDF no gráfico acima, percebe-se que o modelo teórico é uma boa representação dos dados observados devido à proximidade das curvas."
      ],
      "metadata": {
        "id": "pisl6_bGQfCa"
      }
    }
  ]
}