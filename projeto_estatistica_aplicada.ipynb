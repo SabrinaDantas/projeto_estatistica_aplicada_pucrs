{
  "nbformat": 4,
  "nbformat_minor": 0,
  "metadata": {
    "colab": {
      "provenance": [],
      "collapsed_sections": [
        "qyvUja401a2C",
        "Yady5Z59BhCt"
      ],
      "authorship_tag": "ABX9TyNcwWSwTysZW+pq5J3kMqUf",
      "include_colab_link": true
    },
    "kernelspec": {
      "name": "ir",
      "display_name": "R"
    },
    "language_info": {
      "name": "R"
    }
  },
  "cells": [
    {
      "cell_type": "markdown",
      "metadata": {
        "id": "view-in-github",
        "colab_type": "text"
      },
      "source": [
        "<a href=\"https://colab.research.google.com/github/SabrinaDantas/projeto_estatistica_aplicada_pucrs/blob/main/projeto_estatistica_aplicada.ipynb\" target=\"_parent\"><img src=\"https://colab.research.google.com/assets/colab-badge.svg\" alt=\"Open In Colab\"/></a>"
      ]
    },
    {
      "cell_type": "markdown",
      "source": [
        "# Projeto - Estatística Aplicada\n",
        "\n"
      ],
      "metadata": {
        "id": "5vPlIK51zufZ"
      }
    },
    {
      "cell_type": "markdown",
      "source": [
        "## Fase 1"
      ],
      "metadata": {
        "id": "ZHYoWpkJz8Ew"
      }
    },
    {
      "cell_type": "markdown",
      "source": [
        "### 1.1 Leitura do Banco de Dados"
      ],
      "metadata": {
        "id": "qyvUja401a2C"
      }
    },
    {
      "cell_type": "markdown",
      "source": [
        "A base de dados refere-se a [*Jogadores Registrados na FIFA*](https://raw.githubusercontent.com/filipezabala/pucrs-tecnologo-bd/main/dados/Anexo_Projeto_fifa_world_national_teams_versa%CC%83o_oficial%2020241.csv) , em formado CSV. A leitura será realizada através da URL utilizando a função ***read.csv( )***."
      ],
      "metadata": {
        "id": "eI8EFEvJ2TsS"
      }
    },
    {
      "cell_type": "code",
      "execution_count": 24,
      "metadata": {
        "id": "SLjDOjUZyub0"
      },
      "outputs": [],
      "source": [
        "url_fifa <- 'https://raw.githubusercontent.com/filipezabala/pucrs-tecnologo-bd/main/dados/Anexo_Projeto_fifa_world_national_teams_versa%CC%83o_oficial%2020241.csv'\n",
        "df_fifa <- read.csv(url_fifa, header = TRUE, sep = ';')"
      ]
    },
    {
      "cell_type": "markdown",
      "source": [
        "### 1.2 Análise da Estrutura"
      ],
      "metadata": {
        "id": "Yady5Z59BhCt"
      }
    },
    {
      "cell_type": "markdown",
      "source": [
        "A análise da estrutura de dados é importante para compreender, identificar possíveis problemas, selecionar variáveis relevantes, preparar os dados e planejar a análise. Em R, utiliza-se a função ***str( )***."
      ],
      "metadata": {
        "id": "ETCR8Zzu5iaH"
      }
    },
    {
      "cell_type": "code",
      "source": [
        "str(df_fifa)\n",
        "# head(df_fifa)"
      ],
      "metadata": {
        "colab": {
          "base_uri": "https://localhost:8080/"
        },
        "id": "fVAc20L0zIlE",
        "outputId": "ffc7842c-da6c-48dc-ee1d-e6a0b70005cf"
      },
      "execution_count": 25,
      "outputs": [
        {
          "output_type": "stream",
          "name": "stdout",
          "text": [
            "'data.frame':\t718 obs. of  30 variables:\n",
            " $ id                           : int  158023 153079 211110 201399 226226 199667 212616 216816 183892 231478 ...\n",
            " $ name                         : chr  \"Messi\" \"Aguero\" \"Dybala\" \"Icardi\" ...\n",
            " $ full_name                    : chr  \"Lionel Andr\\xe9s Messi Cuccittini\" \"Sergio Leonel Ag\\xfcero del Castillo\" \"Paulo Bruno Exequiel Dybala\" \"Mauro Emanuel Icardi Rivero\" ...\n",
            " $ overall_rating               : int  94 89 89 87 82 77 77 78 79 79 ...\n",
            " $ value_euro                   : int  110500000 64500000 89000000 64500000 30000000 8500000 12000000 15000000 8500000 18000000 ...\n",
            " $ wage_euro                    : int  565000 300000 205000 130000 83000 28000 27000 53000 19000 54000 ...\n",
            " $ nationality                  : chr  \"Argentina\" \"Argentina\" \"Argentina\" \"Argentina\" ...\n",
            " $ national_team                : chr  \"Argentina\" \"Argentina\" \"Argentina\" \"Argentina\" ...\n",
            " $ club_team                    : chr  \"FC Barcelona\" \"Manchester City\" \"Juventus\" \"Inter\" ...\n",
            " $ age                          : int  31 30 25 26 22 28 24 23 31 21 ...\n",
            " $ height_cm                    : int  170 173 152 155 175 185 152 155 155 175 ...\n",
            " $ weight_kgs                   : int  72 70 75 75 70 79 70 81 83 79 ...\n",
            " $ international_reputation.1.5.: int  5 4 3 3 1 2 1 2 1 1 ...\n",
            " $ weak_foot.1.5.               : int  4 4 3 4 3 3 3 3 3 4 ...\n",
            " $ skill_moves.1.5.             : int  4 4 4 3 4 2 4 3 2 4 ...\n",
            " $ club_rating                  : int  86 85 85 82 80 79 75 76 80 82 ...\n",
            " $ Goleiro                      : int  0 0 0 0 0 0 0 0 0 0 ...\n",
            " $ Zagueiro                     : int  0 0 0 0 0 0 0 0 0 0 ...\n",
            " $ Meio                         : int  0 0 0 0 0 0 0 0 0 0 ...\n",
            " $ Atacante                     : int  1 0 1 1 0 0 0 0 0 0 ...\n",
            " $ crossing                     : int  86 70 82 46 75 66 76 40 68 56 ...\n",
            " $ finishing                    : int  95 93 84 91 77 40 68 79 60 82 ...\n",
            " $ heading_accuracy             : int  70 77 68 91 59 79 50 80 76 79 ...\n",
            " $ short_passing                : int  92 81 87 73 82 70 78 68 71 62 ...\n",
            " $ dribbling                    : int  97 89 92 77 84 63 83 76 57 78 ...\n",
            " $ jumping                      : int  68 81 75 94 64 77 58 84 76 81 ...\n",
            " $ strength                     : int  66 73 65 76 69 78 68 72 82 86 ...\n",
            " $ long_shots                   : int  94 83 88 70 76 56 79 66 58 68 ...\n",
            " $ aggression                   : int  48 65 48 56 65 83 56 70 81 74 ...\n",
            " $ GK_reflexes                  : int  8 14 8 9 14 7 14 11 6 13 ...\n"
          ]
        }
      ]
    },
    {
      "cell_type": "markdown",
      "source": [
        "No banco de dados da FIFA, temos 718 linhas e 30 variáveis que foram classificadas corretamente. Para prosseguir com a análise de possíveis problemas, será verificado a presença de valores ausentes."
      ],
      "metadata": {
        "id": "kqa_mqhpCXLa"
      }
    },
    {
      "cell_type": "code",
      "source": [
        "sum(is.na(df_fifa))"
      ],
      "metadata": {
        "colab": {
          "base_uri": "https://localhost:8080/",
          "height": 34
        },
        "id": "1-EnzeqN4JrM",
        "outputId": "94a549b6-c26d-4f14-cb4f-ba43f2fbde32"
      },
      "execution_count": 26,
      "outputs": [
        {
          "output_type": "display_data",
          "data": {
            "text/html": [
              "0"
            ],
            "text/markdown": "0",
            "text/latex": "0",
            "text/plain": [
              "[1] 0"
            ]
          },
          "metadata": {}
        }
      ]
    },
    {
      "cell_type": "markdown",
      "source": [
        "Não foi localizado a presença de valores ausentes no banco de dados.\n"
      ],
      "metadata": {
        "id": "pnNBWvwED3so"
      }
    },
    {
      "cell_type": "markdown",
      "source": [
        "### 1.3 Tipos de Variáveis"
      ],
      "metadata": {
        "id": "5W8y3owzED5X"
      }
    },
    {
      "cell_type": "markdown",
      "source": [
        "\n",
        "1. **Qualitativa Nominal:** Nacionalidade - (`nationality`)\n",
        "\n",
        "2. **Qualitativa Ordinal:**\n",
        "\n",
        "3. **Quantitativa Discreta:** Reputação em uma escala de 1 (pior) até 5 (melhor) - (`international_reputation.1.5`)\n",
        "\n",
        "4. **Quantitativa Contínua:** Peso em KG - (`weight_kgs`)\n",
        "\n",
        "\n",
        "\n"
      ],
      "metadata": {
        "id": "CgOYP7_eEsmr"
      }
    },
    {
      "cell_type": "markdown",
      "source": [
        "### 1.4 Estatística Descritiva\n"
      ],
      "metadata": {
        "id": "8oP8bvfonEkv"
      }
    },
    {
      "cell_type": "markdown",
      "source": [
        "A estatística descritiva é importante para resumir e descrever características importantes de um conjunto de dados. Em R, podemos usar a função ***summary( )*** para realizar essa tarefa. Antes disso, será realizado um filtro das colunas que são do tipo inteiro."
      ],
      "metadata": {
        "id": "mbQEwSEInch3"
      }
    },
    {
      "cell_type": "code",
      "source": [
        "filter_int <- sapply(df_fifa, is.integer)\n",
        "summary(df_fifa[,filter_int])\n",
        "\n",
        "### RETIRAR O ID DO FILTRO"
      ],
      "metadata": {
        "colab": {
          "base_uri": "https://localhost:8080/",
          "height": 746
        },
        "id": "jD6O_gHuk3MU",
        "outputId": "64ff48f3-d8de-4219-c1fd-da47366cf10d"
      },
      "execution_count": 27,
      "outputs": [
        {
          "output_type": "display_data",
          "data": {
            "text/plain": [
              "       id         overall_rating    value_euro          wage_euro     \n",
              " Min.   : 20801   Min.   :58.00   Min.   :   230000   Min.   :  1000  \n",
              " 1st Qu.:189831   1st Qu.:72.00   1st Qu.:  3325000   1st Qu.: 10000  \n",
              " Median :204626   Median :76.00   Median :  8000000   Median : 27000  \n",
              " Mean   :203668   Mean   :76.46   Mean   : 13897695   Mean   : 49560  \n",
              " 3rd Qu.:222200   3rd Qu.:80.00   3rd Qu.: 17000000   3rd Qu.: 59000  \n",
              " Max.   :246387   Max.   :94.00   Max.   :110500000   Max.   :565000  \n",
              "      age          height_cm     weight_kgs     international_reputation.1.5.\n",
              " Min.   :18.00   Min.   :152   Min.   : 59.00   Min.   :1.000                \n",
              " 1st Qu.:24.00   1st Qu.:170   1st Qu.: 73.00   1st Qu.:1.000                \n",
              " Median :26.00   Median :183   Median : 77.00   Median :1.000                \n",
              " Mean   :26.57   Mean   :177   Mean   : 77.67   Mean   :1.673                \n",
              " 3rd Qu.:29.00   3rd Qu.:188   3rd Qu.: 82.00   3rd Qu.:2.000                \n",
              " Max.   :37.00   Max.   :203   Max.   :100.00   Max.   :5.000                \n",
              " weak_foot.1.5.  skill_moves.1.5.  club_rating    Goleiro       \n",
              " Min.   :1.000   Min.   :1.000    Min.   :60   Min.   :0.00000  \n",
              " 1st Qu.:3.000   1st Qu.:2.000    1st Qu.:72   1st Qu.:0.00000  \n",
              " Median :3.000   Median :3.000    Median :76   Median :0.00000  \n",
              " Mean   :3.185   Mean   :2.787    Mean   :76   Mean   :0.04178  \n",
              " 3rd Qu.:4.000   3rd Qu.:3.000    3rd Qu.:80   3rd Qu.:0.00000  \n",
              " Max.   :5.000   Max.   :5.000    Max.   :86   Max.   :1.00000  \n",
              "    Zagueiro            Meio            Atacante         crossing    \n",
              " Min.   :0.00000   Min.   :0.00000   Min.   :0.0000   Min.   : 8.00  \n",
              " 1st Qu.:0.00000   1st Qu.:0.00000   1st Qu.:0.0000   1st Qu.:49.00  \n",
              " Median :0.00000   Median :0.00000   Median :0.0000   Median :65.00  \n",
              " Mean   :0.07521   Mean   :0.08217   Mean   :0.1003   Mean   :58.63  \n",
              " 3rd Qu.:0.00000   3rd Qu.:0.00000   3rd Qu.:0.0000   3rd Qu.:73.00  \n",
              " Max.   :1.00000   Max.   :1.00000   Max.   :1.0000   Max.   :93.00  \n",
              "   finishing     heading_accuracy short_passing     dribbling    \n",
              " Min.   : 7.00   Min.   : 7.00    Min.   :11.00   Min.   : 7.00  \n",
              " 1st Qu.:37.00   1st Qu.:52.00    1st Qu.:65.00   1st Qu.:60.25  \n",
              " Median :58.00   Median :64.00    Median :72.00   Median :70.00  \n",
              " Mean   :53.36   Mean   :59.11    Mean   :68.18   Mean   :64.40  \n",
              " 3rd Qu.:70.00   3rd Qu.:73.00    3rd Qu.:78.00   3rd Qu.:77.00  \n",
              " Max.   :95.00   Max.   :93.00    Max.   :92.00   Max.   :97.00  \n",
              "    jumping         strength       long_shots      aggression    GK_reflexes   \n",
              " Min.   :28.00   Min.   :30.00   Min.   : 5.00   Min.   :17.0   Min.   : 2.00  \n",
              " 1st Qu.:63.00   1st Qu.:65.00   1st Qu.:46.25   1st Qu.:56.0   1st Qu.: 8.00  \n",
              " Median :70.00   Median :72.00   Median :63.00   Median :68.0   Median :11.00  \n",
              " Mean   :69.21   Mean   :70.88   Mean   :56.88   Mean   :64.1   Mean   :18.36  \n",
              " 3rd Qu.:77.00   3rd Qu.:78.00   3rd Qu.:72.00   3rd Qu.:76.0   3rd Qu.:14.00  \n",
              " Max.   :95.00   Max.   :94.00   Max.   :94.00   Max.   :94.0   Max.   :94.00  "
            ]
          },
          "metadata": {}
        }
      ]
    },
    {
      "cell_type": "markdown",
      "source": [
        "### 1.4 Tabela de Frequência\n"
      ],
      "metadata": {
        "id": "JIUNs1mtyeCM"
      }
    },
    {
      "cell_type": "markdown",
      "source": [
        "A tabela de frequências é uma ferramenta útil para analisar dados, ajuda a entender a distribuição dos dados, identificar padrões e outliers, validar os dados e tomar decisões informadas.\n",
        "\n",
        "\n",
        "Para variáveis do tipo caracter (chr), a função ***sapply( )*** é empregada para criar uma tabela contendo apenas os dados desse tipo, excluindo **'name'** e '**full_name'** No entanto, em análises que envolvem um grande número de colunas, pode ser mais eficiente adotar uma abordagem diferente."
      ],
      "metadata": {
        "id": "tZYsjKAQy0t8"
      }
    },
    {
      "cell_type": "code",
      "source": [
        "sapply(df_fifa[,c(\"nationality\", \"national_team\", \"club_team\")], table)"
      ],
      "metadata": {
        "colab": {
          "base_uri": "https://localhost:8080/",
          "height": 1000
        },
        "id": "NuD1zoqHqLYX",
        "outputId": "2dd54c78-82fc-494d-972b-270fb4a5ae3c"
      },
      "execution_count": 28,
      "outputs": [
        {
          "output_type": "display_data",
          "data": {
            "text/plain": [
              "$nationality\n",
              "\n",
              "          Argentina           Australia             Austria             Belgium \n",
              "                 17                  13                  16                  19 \n",
              "             Brazil            Bulgaria            Cameroon              Canada \n",
              "                 23                   3                  17                  19 \n",
              "              Chile            Colombia      Czech Republic             Denmark \n",
              "                 10                  12                  20                  23 \n",
              "            Ecuador               Egypt             England             Finland \n",
              "                  6                   7                  23                  19 \n",
              "             France             Germany              Greece             Hungary \n",
              "                 23                  23                  21                   8 \n",
              "            Iceland               Italy         Ivory Coast              Mexico \n",
              "                 13                  22                  14                  10 \n",
              "        Netherlands         New Zealand              Norway            Paraguay \n",
              "                 23                   7                  22                   2 \n",
              "               Peru              Poland            Portugal Republic of Ireland \n",
              "                  7                  21                  15                  21 \n",
              "            Romania              Russia            Scotland            Slovenia \n",
              "                 11                  13                  23                  14 \n",
              "       South Africa               Spain              Sweden         Switzerland \n",
              "                  6                  23                  20                  16 \n",
              "             Turkey       United States             Uruguay           Venezuela \n",
              "                 21                  23                  15                  13 \n",
              "              Wales \n",
              "                 21 \n",
              "\n",
              "$national_team\n",
              "\n",
              "          Argentina           Australia             Austria             Belgium \n",
              "                 17                  13                  16                  19 \n",
              "             Brazil            Bulgaria            Cameroon              Canada \n",
              "                 23                   3                  17                  19 \n",
              "              Chile            Colombia       Cote d\"ivoire      Czech Republic \n",
              "                 10                  12                  14                  20 \n",
              "            Denmark             Ecuador               Egypt             England \n",
              "                 23                   6                   7                  23 \n",
              "            Finland              France             Germany              Greece \n",
              "                 19                  23                  23                  21 \n",
              "            Hungary             Iceland               Italy              Mexico \n",
              "                  8                  13                  22                  10 \n",
              "        Netherlands         New Zealand              Norway            Paraguay \n",
              "                 23                   7                  22                   2 \n",
              "               Peru              Poland            Portugal Republic of Ireland \n",
              "                  7                  21                  15                  21 \n",
              "            Romania              Russia            Scotland            Slovenia \n",
              "                 11                  13                  23                  14 \n",
              "       South Africa               Spain              Sweden         Switzerland \n",
              "                  6                  23                  20                  16 \n",
              "             Turkey       United States             Uruguay           Venezuela \n",
              "                 21                  23                  15                  13 \n",
              "              Wales \n",
              "                 21 \n",
              "\n",
              "$club_team\n",
              "\n",
              "                   1. FC Koln                1. FC Nurnberg \n",
              "                            3                             1 \n",
              "              1. FSV Mainz 05                     Aarhus GF \n",
              "                            3                             1 \n",
              "                     Aberdeen                    AEK Athens \n",
              "                            2                             5 \n",
              "                          AIK                          Ajax \n",
              "                            2                             8 \n",
              "                   Alanyaspor                   Albacete BP \n",
              "                            1                             1 \n",
              "    America FC (Minas Gerais)                     Amiens SC \n",
              "                            1                             1 \n",
              "                      Arsenal                     AS Monaco \n",
              "                            8                             5 \n",
              "             AS Saint-Etienne                   Aston Villa \n",
              "                            1                             6 \n",
              "                     Atalanta       Athletic Club de Bilbao \n",
              "                            3                             1 \n",
              "             Atiker Konyaspor                Atlanta United \n",
              "                            3                             2 \n",
              "              Atletico Madrid              Atletico Mineiro \n",
              "                           11                             4 \n",
              "                   AZ Alkmaar                      Barnsley \n",
              "                            5                             1 \n",
              "          Bayer 04 Leverkusen                   Besiktas JK \n",
              "                            7                             4 \n",
              "                    BK Hacken                     BK Häcken \n",
              "                            1                             1 \n",
              "             Blackburn Rovers                       Bologna \n",
              "                            2                             4 \n",
              "            Borussia Dortmund      Borussia Monchengladbach \n",
              "                            5                             6 \n",
              "                  Bournemouth                     Brentford \n",
              "                            5                             2 \n",
              "       Brighton & Hove Albion                  Bristol City \n",
              "                            2                             2 \n",
              "                   Brondby IF                       Burnley \n",
              "                            1                             6 \n",
              "                    Bursaspor                      Cadiz CF \n",
              "                            1                             1 \n",
              "                     Cagliari                  Cardiff City \n",
              "                            4                             4 \n",
              "                   CD Leganes                       CD Lugo \n",
              "                            3                             1 \n",
              "                       Celtic           CF Rayo Majadahonda \n",
              "                           12                             1 \n",
              "                  Chapecoense                       Chelsea \n",
              "                            1                            10 \n",
              "                 Chicago Fire                Club Brugge KV \n",
              "                            1                             2 \n",
              "              Colorado Rapids              Columbus Crew SC \n",
              "                            1                             3 \n",
              "                      Crotone                      Cruzeiro \n",
              "                            2                             2 \n",
              "               Crystal Palace                     DC United \n",
              "                            4                             2 \n",
              "             Deportivo Alaves        Deportivo de La Coruna \n",
              "                            2                             1 \n",
              "                 Derby County                     Dijon FCO \n",
              "                            4                             1 \n",
              "                Dinamo Zagreb                   Dynamo Kyiv \n",
              "                            2                             3 \n",
              "          Eintracht Frankfurt          En Avant de Guingamp \n",
              "                            2                             2 \n",
              "                      Everton                   FC Augsburg \n",
              "                            6                             4 \n",
              "                 FC Barcelona             FC Bayern Munchen \n",
              "                           11                            14 \n",
              "                    FC Dallas      FC Girondins de Bordeaux \n",
              "                            1                             1 \n",
              "                 FC Kobenhavn                       FC Metz \n",
              "                            4                             1 \n",
              "               FC Midtjylland                     FC Nantes \n",
              "                            4                             2 \n",
              "                FC Schalke 04                  FC St. Pauli \n",
              "                            2                             1 \n",
              "                Fenerbahce SK                     Feyenoord \n",
              "                            7                             2 \n",
              "                   Fiorentina                    Fluminense \n",
              "                            6                             3 \n",
              "           Fortuna Dusseldorf                     Frosinone \n",
              "                            2                             1 \n",
              "                       Fulham                Galatasaray SK \n",
              "                            4                             4 \n",
              "                        Genoa                     Girona FC \n",
              "                            3                             1 \n",
              "                   Goztepe SK                        Gremio \n",
              "                            3                             4 \n",
              "                 Hamburger SV                   Hannover 96 \n",
              "                            2                             3 \n",
              "          Heart of Midlothian                 Hellas Verona \n",
              "                            3                             1 \n",
              "                   Hertha BSC                     Hibernian \n",
              "                            5                             1 \n",
              "                 HJK Helsinki                Houston Dynamo \n",
              "                            1                             1 \n",
              "            Huddersfield Town                     Hull City \n",
              "                            2                             3 \n",
              "               IFK Norrkoping                         Inter \n",
              "                            1                             7 \n",
              "                Internacional                  Ipswich Town \n",
              "                            5                             1 \n",
              "                     Juventus                      KAA Gent \n",
              "                           14                             3 \n",
              "                Kaizer Chiefs                  Kasimpasa SK \n",
              "                            1                             2 \n",
              "                  Kayserispor                      KRC Genk \n",
              "                            1                             3 \n",
              "                  KV Oostende La Berrichonne de Chateauroux \n",
              "                            1                             1 \n",
              "                    LA Galaxy                         Lazio \n",
              "                            3                             2 \n",
              "                 Leeds United                Legia Warszawa \n",
              "                            3                             3 \n",
              "               Leicester City                    Levante UD \n",
              "                            8                             1 \n",
              "                    Liverpool              Lokomotiv Moscow \n",
              "                            9                             6 \n",
              "               Los Angeles FC                    LOSC Lille \n",
              "                            3                             1 \n",
              "                     Malmo FF               Manchester City \n",
              "                            1                            10 \n",
              "            Manchester United         Medipol Basaksehir FK \n",
              "                           12                             3 \n",
              "                Middlesbrough                         Milan \n",
              "                            1                             7 \n",
              "                     Millwall           Minnesota United FC \n",
              "                            2                             3 \n",
              "              Montpellier HSC               Montreal Impact \n",
              "                            1                             2 \n",
              "                    NAC Breda                        Napoli \n",
              "                            1                             6 \n",
              "             New York City FC            New York Red Bulls \n",
              "                            1                             1 \n",
              "             Newcastle United                  Norwich City \n",
              "                            4                             2 \n",
              "            Nottingham Forest               Odense Boldklub \n",
              "                            1                             2 \n",
              "               Olympiacos CFP        Olympique de Marseille \n",
              "                            6                             5 \n",
              "           Olympique Lyonnais                     Orebro SK \n",
              "                            3                             1 \n",
              "              Orlando City SC               Orlando Pirates \n",
              "                            3                             2 \n",
              "                      Palermo              Panathinaikos FC \n",
              "                            2                             1 \n",
              "                         PAOK                      Paris FC \n",
              "                            6                             1 \n",
              "          Paris Saint-Germain                         Parma \n",
              "                           10                             2 \n",
              "                   PEC Zwolle               PFC CSKA Moscow \n",
              "                            1                             3 \n",
              "           Philadelphia Union                Pogon Szczecin \n",
              "                            1                             2 \n",
              "             Portland Timbers             Preston North End \n",
              "                            2                             2 \n",
              "                          PSV           Queens Park Rangers \n",
              "                           10                             1 \n",
              "                   Rangers FC                Rayo Vallecano \n",
              "                            3                             1 \n",
              "                   RB Leipzig                      RC Celta \n",
              "                            9                             5 \n",
              "         RC Strasbourg Alsace                  RCD Espanyol \n",
              "                            2                             1 \n",
              "                      Reading                    Real Betis \n",
              "                            4                             4 \n",
              "                  Real Madrid                Real Salt Lake \n",
              "                           11                             1 \n",
              "                Real Sociedad        Real Sporting de Gijon \n",
              "                            1                             1 \n",
              "           Real Valladolid CF                   Red Star FC \n",
              "                            1                             1 \n",
              "                     Rizespor                          Roma \n",
              "                            1                             7 \n",
              "                 Rosenborg BK              Royal Antwerp FC \n",
              "                            3                             1 \n",
              "         Royal Excel Mouscron                RSC Anderlecht \n",
              "                            1                             1 \n",
              "                    Sampdoria          San Jose Earthquakes \n",
              "                            4                             1 \n",
              "                       Santos                      Sassuolo \n",
              "                            2                             1 \n",
              "                  SC Freiburg             Scunthorpe United \n",
              "                            2                             1 \n",
              "                    SD Huesca           Seattle Sounders FC \n",
              "                            2                             4 \n",
              "                   Sevilla FC              Sheffield United \n",
              "                            5                             2 \n",
              "          Sheffield Wednesday               SK Slavia Praha \n",
              "                            1                             8 \n",
              "                  SonderjyskE                   Southampton \n",
              "                            1                             5 \n",
              "                         SPAL                  Sparta Praha \n",
              "                            1                             2 \n",
              "               Spartak Moscow          Sporting Kansas City \n",
              "                            3                             3 \n",
              "             Sporting Lokeren             Stade Brestois 29 \n",
              "                            1                             1 \n",
              "             Stade Rennais FC             Standard de Liege \n",
              "                            1                             3 \n",
              "                   Stoke City                 SV Sandhausen \n",
              "                            5                             1 \n",
              "             SV Werder Bremen                  Swansea City \n",
              "                            3                             4 \n",
              "                       Torino                    Toronto FC \n",
              "                            3                             3 \n",
              "            Tottenham Hotspur        Toulouse Football Club \n",
              "                           14                             3 \n",
              "                  Trabzonspor           TSG 1899 Hoffenheim \n",
              "                            1                             3 \n",
              "                      Udinese                   Valencia CF \n",
              "                            3                             4 \n",
              "       Vancouver Whitecaps FC                 VfB Stuttgart \n",
              "                            5                             3 \n",
              "              VfL Bochum 1848                 VfL Wolfsburg \n",
              "                            1                             3 \n",
              "               Viktoria Plzen                 Villarreal CF \n",
              "                            5                             3 \n",
              "                      Vitesse                       Watford \n",
              "                            1                             3 \n",
              "         West Bromwich Albion               West Ham United \n",
              "                            4                             3 \n",
              "               Wigan Athletic                     Willem II \n",
              "                            2                             2 \n",
              "          WisWieczysta Krakow       Wolverhampton Wanderers \n",
              "                            2                             5 \n",
              "             Yeni Malatyaspor \n",
              "                            1 \n"
            ]
          },
          "metadata": {}
        }
      ]
    }
  ]
}